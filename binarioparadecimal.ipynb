{
 "cells": [
  {
   "cell_type": "code",
   "execution_count": 10,
   "metadata": {},
   "outputs": [
    {
     "name": "stdout",
     "output_type": "stream",
     "text": [
      "Lista de números binários:  ['1', '0', '1', '1', '1', '0', '1']\n",
      "Lista de multiplicadores:  [1, 2, 4, 8, 16, 32, 64, 128, 256, 512, 1024]\n",
      "Lista multiplicada pelos respectivos valores:  [1, 0, 4, 8, 16, 0, 64]\n",
      "Soma dos números multiplicados:  93\n"
     ]
    }
   ],
   "source": [
    "# crie uma aplicação que transforma número binario para números hexadecimal.\n",
    "\n",
    "# Solicita ao usuário que digite um número binário e armazena o valor na variável 'binario'\n",
    "binario = input('Digite um número binário: ')\n",
    "\n",
    "# Inicializa uma lista vazia para armazenar os dígitos do número binário\n",
    "lista = []\n",
    "\n",
    "# Verifica se todos os caracteres na entrada são '0' ou '1'\n",
    "if all(numero in '01' for numero in binario):\n",
    "    # Converte a entrada binária em uma lista de caracteres\n",
    "    lista_binario = list(binario)\n",
    "    \n",
    "    # Inverte a lista para que os cálculos sejam feitos da direita para a esquerda\n",
    "    lista_binario.reverse()\n",
    "\n",
    "    # Lista de multiplicadores correspondentes\n",
    "    multiplicadores = [1,2, 4, 8, 16, 32, 64, 128, 256, 512, 1024]\n",
    "\n",
    "    # Calcula os números multiplicados pelos respectivos valores\n",
    "    lista_multiplicada = [int(numero) * multiplicador for numero, multiplicador in zip(lista_binario, multiplicadores)]\n",
    "\n",
    "    # Soma os números binários e os números multiplicados\n",
    "    soma_binario = sum(int(numero) for numero in lista_binario)\n",
    "    soma_multiplicada = sum(lista_multiplicada)\n",
    "\n",
    "    # Imprime os resultados\n",
    "    print('Lista de números binários: ', lista_binario)\n",
    "    print('Lista de multiplicadores: ', multiplicadores)\n",
    "    print('Lista multiplicada pelos respectivos valores: ', lista_multiplicada)\n",
    "    print('Soma dos números multiplicados: ', soma_multiplicada)\n",
    "else:\n",
    "    # Se a entrada não for um número binário válido, exibe uma mensagem de erro\n",
    "    print('Você não digitou um número binário válido.')\n",
    "\n"
   ]
  }
 ],
 "metadata": {
  "kernelspec": {
   "display_name": "Python 3",
   "language": "python",
   "name": "python3"
  },
  "language_info": {
   "codemirror_mode": {
    "name": "ipython",
    "version": 3
   },
   "file_extension": ".py",
   "mimetype": "text/x-python",
   "name": "python",
   "nbconvert_exporter": "python",
   "pygments_lexer": "ipython3",
   "version": "3.11.5"
  },
  "orig_nbformat": 4
 },
 "nbformat": 4,
 "nbformat_minor": 2
}
